{
  "nbformat": 4,
  "nbformat_minor": 0,
  "metadata": {
    "colab": {
      "provenance": [],
      "authorship_tag": "ABX9TyPZzMywlNSQQRtbjvBCXA55",
      "include_colab_link": true
    },
    "kernelspec": {
      "name": "python3",
      "display_name": "Python 3"
    },
    "language_info": {
      "name": "python"
    }
  },
  "cells": [
    {
      "cell_type": "markdown",
      "metadata": {
        "id": "view-in-github",
        "colab_type": "text"
      },
      "source": [
        "<a href=\"https://colab.research.google.com/github/kanakver/python/blob/main/Virtual_Pet_Simulator.ipynb\" target=\"_parent\"><img src=\"https://colab.research.google.com/assets/colab-badge.svg\" alt=\"Open In Colab\"/></a>"
      ]
    },
    {
      "cell_type": "code",
      "execution_count": null,
      "metadata": {
        "id": "3OWjYSqrVbQ0"
      },
      "outputs": [],
      "source": [
        "import random"
      ]
    },
    {
      "cell_type": "code",
      "source": [
        "# Define the pet's attributes\n",
        "def create_pet(name):\n",
        "    return {\n",
        "        \"name\": name,\n",
        "        \"happiness\": 50,\n",
        "        \"hunger\": 50\n",
        "    }"
      ],
      "metadata": {
        "id": "Q3JuN4H0Vf3O"
      },
      "execution_count": null,
      "outputs": []
    },
    {
      "cell_type": "code",
      "source": [
        "# Feed the pet (decreases hunger but slightly decreases happiness)\n",
        "def feed_pet(pet):\n",
        "    if pet['hunger'] > 10:\n",
        "        pet['hunger'] -= 10\n",
        "        pet['happiness'] -= 5\n",
        "        print(f\"You fed {pet['name']}. Hunger decreased, but happiness decreased slightly.\")\n",
        "    else:\n",
        "        print(f\"{pet['name']} is not that hungry.\")\n"
      ],
      "metadata": {
        "id": "BHuXlWnkVrBA"
      },
      "execution_count": null,
      "outputs": []
    },
    {
      "cell_type": "code",
      "source": [
        "# Play with the pet (increases happiness but slightly increases hunger)\n",
        "def play_with_pet(pet):\n",
        "    if pet['happiness'] < 90:\n",
        "        pet['happiness'] += 10\n",
        "        pet['hunger'] += 5\n",
        "        print(f\"You played with {pet['name']}. Happiness increased, but hunger increased slightly.\")\n",
        "    else:\n",
        "        print(f\"{pet['name']} is already very happy!\")\n"
      ],
      "metadata": {
        "id": "9ENPBFXJVr_C"
      },
      "execution_count": null,
      "outputs": []
    },
    {
      "cell_type": "code",
      "source": [
        "# Check pet's status\n",
        "def check_pet_status(pet):\n",
        "    print(f\"\\n{pet['name']}'s Status:\")\n",
        "    print(f\"Happiness: {pet['happiness']}/100\")\n",
        "    print(f\"Hunger: {pet['hunger']}/100\\n\")\n"
      ],
      "metadata": {
        "id": "5yo1PO7gV5uD"
      },
      "execution_count": null,
      "outputs": []
    },
    {
      "cell_type": "code",
      "source": [
        "# Automatic changes: Hunger increases and happiness decreases over time\n",
        "def automatic_changes(pet):\n",
        "    pet['hunger'] += 5\n",
        "    pet['happiness'] -= 5"
      ],
      "metadata": {
        "id": "-lvmloJHWCsD"
      },
      "execution_count": null,
      "outputs": []
    },
    {
      "cell_type": "code",
      "source": [
        "# Game over conditions\n",
        "def check_game_over(pet):\n",
        "    if pet['hunger'] >= 100:\n",
        "        print(f\"{pet['name']} got too hungry and left.\")\n",
        "        return True\n",
        "    if pet['happiness'] <= 0:\n",
        "        print(f\"{pet['name']} became too sad and left.\")\n",
        "        return True\n",
        "    return False"
      ],
      "metadata": {
        "id": "4-uqqRbIWF5n"
      },
      "execution_count": null,
      "outputs": []
    },
    {
      "cell_type": "code",
      "source": [
        "# Main game loop\n",
        "def main():\n",
        "    print(\"Welcome to the Virtual Pet Simulator!\")\n",
        "    pet_name = input(\"What would you like to name your pet? \")\n",
        "    pet = create_pet(pet_name)\n",
        "\n",
        "    while True:\n",
        "        # Show the menu\n",
        "        print(\"\\nMenu:\")\n",
        "        print(\"1. Feed the pet\")\n",
        "        print(\"2. Play with the pet\")\n",
        "        print(\"3. Check pet status\")\n",
        "        print(\"4. Quit\")\n",
        "        choice = input(\"Choose an action (1/2/3/4): \")\n",
        "\n",
        "        # Handle user actions\n",
        "        if choice == '1':\n",
        "            feed_pet(pet)\n",
        "        elif choice == '2':\n",
        "            play_with_pet(pet)\n",
        "        elif choice == '3':\n",
        "            check_pet_status(pet)\n",
        "        elif choice == '4':\n",
        "            print(f\"Goodbye! Thanks for taking care of {pet['name']}!\")\n",
        "            break\n",
        "        else:\n",
        "            print(\"Invalid choice. Please try again.\")\n",
        "\n",
        "        # Apply automatic changes to hunger and happiness\n",
        "        automatic_changes(pet)\n",
        "\n",
        "        # Check if the game is over\n",
        "        if check_game_over(pet):\n",
        "            break\n"
      ],
      "metadata": {
        "id": "7XTm_zCiWKHT"
      },
      "execution_count": null,
      "outputs": []
    },
    {
      "cell_type": "code",
      "source": [
        "# Run the game\n",
        "if __name__ == \"__main__\":\n",
        "    main()"
      ],
      "metadata": {
        "colab": {
          "base_uri": "https://localhost:8080/"
        },
        "id": "HDd-DR2YWM8e",
        "outputId": "aa870334-ac40-43b7-f2f3-570a320b076e"
      },
      "execution_count": null,
      "outputs": [
        {
          "output_type": "stream",
          "name": "stdout",
          "text": [
            "Welcome to the Virtual Pet Simulator!\n",
            "What would you like to name your pet? billo\n",
            "\n",
            "Menu:\n",
            "1. Feed the pet\n",
            "2. Play with the pet\n",
            "3. Check pet status\n",
            "4. Quit\n",
            "Choose an action (1/2/3/4): 3\n",
            "\n",
            "billo's Status:\n",
            "Happiness: 50/100\n",
            "Hunger: 50/100\n",
            "\n",
            "\n",
            "Menu:\n",
            "1. Feed the pet\n",
            "2. Play with the pet\n",
            "3. Check pet status\n",
            "4. Quit\n",
            "Choose an action (1/2/3/4): 1\n",
            "You fed billo. Hunger decreased, but happiness decreased slightly.\n",
            "\n",
            "Menu:\n",
            "1. Feed the pet\n",
            "2. Play with the pet\n",
            "3. Check pet status\n",
            "4. Quit\n",
            "Choose an action (1/2/3/4): 3\n",
            "\n",
            "billo's Status:\n",
            "Happiness: 35/100\n",
            "Hunger: 50/100\n",
            "\n",
            "\n",
            "Menu:\n",
            "1. Feed the pet\n",
            "2. Play with the pet\n",
            "3. Check pet status\n",
            "4. Quit\n",
            "Choose an action (1/2/3/4): 2\n",
            "You played with billo. Happiness increased, but hunger increased slightly.\n",
            "\n",
            "Menu:\n",
            "1. Feed the pet\n",
            "2. Play with the pet\n",
            "3. Check pet status\n",
            "4. Quit\n",
            "Choose an action (1/2/3/4): 3\n",
            "\n",
            "billo's Status:\n",
            "Happiness: 35/100\n",
            "Hunger: 65/100\n",
            "\n",
            "\n",
            "Menu:\n",
            "1. Feed the pet\n",
            "2. Play with the pet\n",
            "3. Check pet status\n",
            "4. Quit\n",
            "Choose an action (1/2/3/4): 2\n",
            "You played with billo. Happiness increased, but hunger increased slightly.\n",
            "\n",
            "Menu:\n",
            "1. Feed the pet\n",
            "2. Play with the pet\n",
            "3. Check pet status\n",
            "4. Quit\n",
            "Choose an action (1/2/3/4): 2\n",
            "You played with billo. Happiness increased, but hunger increased slightly.\n",
            "\n",
            "Menu:\n",
            "1. Feed the pet\n",
            "2. Play with the pet\n",
            "3. Check pet status\n",
            "4. Quit\n",
            "Choose an action (1/2/3/4): 2\n",
            "You played with billo. Happiness increased, but hunger increased slightly.\n",
            "billo got too hungry and left.\n"
          ]
        }
      ]
    },
    {
      "cell_type": "code",
      "source": [],
      "metadata": {
        "id": "ip8JVJl_WPV4"
      },
      "execution_count": null,
      "outputs": []
    }
  ]
}